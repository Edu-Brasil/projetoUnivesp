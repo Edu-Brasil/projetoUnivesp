{
  "nbformat": 4,
  "nbformat_minor": 0,
  "metadata": {
    "colab": {
      "provenance": [],
      "authorship_tag": "ABX9TyNegRcH3XrRd10kThu2Q2aU",
      "include_colab_link": true
    },
    "kernelspec": {
      "name": "python3",
      "display_name": "Python 3"
    },
    "language_info": {
      "name": "python"
    }
  },
  "cells": [
    {
      "cell_type": "markdown",
      "metadata": {
        "id": "view-in-github",
        "colab_type": "text"
      },
      "source": [
        "<a href=\"https://colab.research.google.com/github/Edu-Brasil/projetoUnivesp/blob/master/PI4.ipynb\" target=\"_parent\"><img src=\"https://colab.research.google.com/assets/colab-badge.svg\" alt=\"Open In Colab\"/></a>"
      ]
    },
    {
      "cell_type": "code",
      "source": [
        "import pandas as pd\n",
        "import requests\n",
        "import json\n",
        "import matplotlib.pyplot as plt\n",
        "from google.colab import files\n",
        "\n",
        "# 1. Fazer a requisição à API do TJSP\n",
        "url = \"https://api-publica.datajud.cnj.jus.br/api_publica_tjsp/_search\"\n",
        "api_key = \"APIKey cDZHYzlZa0JadVREZDJCendQbXY6SkJlTzNjLV9TRENyQk1RdnFKZGRQdw==\"\n",
        "\n",
        "payload = json.dumps({\n",
        "  \"size\": 10000,\n",
        "  \"query\": {\n",
        "    \"match\": {\"classe.codigo\": 12729}  # 12729 (Exec. de Med. Alternativas)\n",
        "  },\n",
        "  \"sort\": [{\"dataAjuizamento\": {\"order\": \"desc\"}}]\n",
        "})\n",
        "\n",
        "headers = {\n",
        "  'Authorization': api_key,\n",
        "  'Content-Type': 'application/json'\n",
        "}\n",
        "\n",
        "response = requests.request(\"POST\", url, headers=headers, data=payload)\n",
        "dados_dict = response.json()\n",
        "\n",
        "# 2. Processar os dados em um DataFrame\n",
        "processos = []\n",
        "\n",
        "for processo in dados_dict['hits']['hits']:\n",
        "    numero_processo = processo['_source']['numeroProcesso']\n",
        "    grau = processo['_source']['grau']\n",
        "    classe = processo['_source']['classe']['nome']\n",
        "    assuntos = processo['_source']['assuntos']\n",
        "    data_ajuizamento = processo['_source']['dataAjuizamento']\n",
        "    ultima_atualizacao = processo['_source']['dataHoraUltimaAtualizacao']\n",
        "    formato = processo['_source']['formato']['nome']\n",
        "    codigo = processo['_source']['orgaoJulgador']['codigo']\n",
        "    orgao_julgador = processo['_source']['orgaoJulgador']['nome']\n",
        "    municipio = processo['_source']['orgaoJulgador'].get('codigoMunicipioIBGE', 'Não informado')  # Tratamento de erro\n",
        "    sort = processo['sort'][0]\n",
        "\n",
        "    try:\n",
        "        movimentos = processo['_source']['movimentos']\n",
        "    except:\n",
        "        movimentos = []\n",
        "\n",
        "    processos.append([numero_processo, classe, data_ajuizamento, ultima_atualizacao, formato, \\\n",
        "                      codigo, orgao_julgador, municipio, grau, assuntos, movimentos, sort])\n",
        "\n",
        "df = pd.DataFrame(processos, columns=['numero_processo', 'classe', 'data_ajuizamento', 'ultima_atualizacao', \\\n",
        "                                      'formato', 'codigo', 'orgao_julgador', 'municipio', 'grau', 'assuntos', 'movimentos', 'sort'])\n",
        "\n",
        "# Funções auxiliares para transformar os dados\n",
        "def converte_data(data_str):\n",
        "    return pd.to_datetime(data_str).tz_convert('America/Sao_Paulo')\n",
        "\n",
        "def gera_lista_assuntos(assuntos_do_df):\n",
        "    lst_assuntos = []\n",
        "    for assunto in assuntos_do_df:\n",
        "        try:\n",
        "            lst_assuntos.append(assunto.get('nome'))\n",
        "        except:\n",
        "            lst_assuntos.append('')\n",
        "    return lst_assuntos\n",
        "\n",
        "def gera_lista_movimentos(movimentos):\n",
        "    lst_movimentos_final = []\n",
        "    for movimento in movimentos:\n",
        "        codigo = movimento.get('codigo')\n",
        "        nome = movimento.get('nome')\n",
        "        data_hora = movimento.get('dataHora')\n",
        "        if data_hora:\n",
        "            data_hora = converte_data(data_hora)\n",
        "        lst_movimentos_final.append([codigo, nome, data_hora])\n",
        "    return lst_movimentos_final\n",
        "\n",
        "df['assuntos'] = df['assuntos'].apply(gera_lista_assuntos)\n",
        "df['movimentos'] = df['movimentos'].apply(gera_lista_movimentos)\n",
        "df['data_ajuizamento'] = df['data_ajuizamento'].apply(converte_data)\n",
        "df['ultima_atualizacao'] = df['ultima_atualizacao'].apply(converte_data)\n",
        "df['movimentos'] = df['movimentos'].apply(lambda x: sorted(x, key=lambda tup: tup[2], reverse=False))\n",
        "\n",
        "# 3. Gravação dos arquivos\n",
        "\n",
        "# Grava o DataFrame como arquivo CSV\n",
        "df.to_csv('anpp.csv', sep=',', header=True, index=False)\n",
        "\n",
        "# Grava o arquivo de texto com os movimentos\n",
        "with open('movimentos_anpp.txt', 'w') as file:\n",
        "    for index, row in df.iterrows():\n",
        "        file.write(f\"Autos n. {row['numero_processo']}, Classe: {row['classe']}\\n\")\n",
        "        file.write(f\"Ajuizamento: {row['data_ajuizamento']}\\n\")\n",
        "        file.write(f\"Assuntos: {row['assuntos']}\\n\\n\")\n",
        "        for movimento in row['movimentos']:\n",
        "            file.write(f\"{str(movimento[2])} | Cód: {str(movimento[0])} | Mov.: {movimento[1]} \\n\")\n",
        "        file.write('\\n-----------------------------------------------------------------------------\\n\\n')\n",
        "\n",
        "# Download dos arquivos gerados\n",
        "files.download('anpp.csv')\n",
        "files.download('movimentos_anpp.txt')\n"
      ],
      "metadata": {
        "colab": {
          "base_uri": "https://localhost:8080/",
          "height": 17
        },
        "id": "SBmtrx2gIWTq",
        "outputId": "d602e970-578d-497f-f50a-8181c018c782"
      },
      "execution_count": null,
      "outputs": [
        {
          "output_type": "display_data",
          "data": {
            "text/plain": [
              "<IPython.core.display.Javascript object>"
            ],
            "application/javascript": [
              "\n",
              "    async function download(id, filename, size) {\n",
              "      if (!google.colab.kernel.accessAllowed) {\n",
              "        return;\n",
              "      }\n",
              "      const div = document.createElement('div');\n",
              "      const label = document.createElement('label');\n",
              "      label.textContent = `Downloading \"${filename}\": `;\n",
              "      div.appendChild(label);\n",
              "      const progress = document.createElement('progress');\n",
              "      progress.max = size;\n",
              "      div.appendChild(progress);\n",
              "      document.body.appendChild(div);\n",
              "\n",
              "      const buffers = [];\n",
              "      let downloaded = 0;\n",
              "\n",
              "      const channel = await google.colab.kernel.comms.open(id);\n",
              "      // Send a message to notify the kernel that we're ready.\n",
              "      channel.send({})\n",
              "\n",
              "      for await (const message of channel.messages) {\n",
              "        // Send a message to notify the kernel that we're ready.\n",
              "        channel.send({})\n",
              "        if (message.buffers) {\n",
              "          for (const buffer of message.buffers) {\n",
              "            buffers.push(buffer);\n",
              "            downloaded += buffer.byteLength;\n",
              "            progress.value = downloaded;\n",
              "          }\n",
              "        }\n",
              "      }\n",
              "      const blob = new Blob(buffers, {type: 'application/binary'});\n",
              "      const a = document.createElement('a');\n",
              "      a.href = window.URL.createObjectURL(blob);\n",
              "      a.download = filename;\n",
              "      div.appendChild(a);\n",
              "      a.click();\n",
              "      div.remove();\n",
              "    }\n",
              "  "
            ]
          },
          "metadata": {}
        },
        {
          "output_type": "display_data",
          "data": {
            "text/plain": [
              "<IPython.core.display.Javascript object>"
            ],
            "application/javascript": [
              "download(\"download_4e77e8e7-9af8-4d72-a1e2-2908d16cd214\", \"anpp.csv\", 16193211)"
            ]
          },
          "metadata": {}
        },
        {
          "output_type": "display_data",
          "data": {
            "text/plain": [
              "<IPython.core.display.Javascript object>"
            ],
            "application/javascript": [
              "\n",
              "    async function download(id, filename, size) {\n",
              "      if (!google.colab.kernel.accessAllowed) {\n",
              "        return;\n",
              "      }\n",
              "      const div = document.createElement('div');\n",
              "      const label = document.createElement('label');\n",
              "      label.textContent = `Downloading \"${filename}\": `;\n",
              "      div.appendChild(label);\n",
              "      const progress = document.createElement('progress');\n",
              "      progress.max = size;\n",
              "      div.appendChild(progress);\n",
              "      document.body.appendChild(div);\n",
              "\n",
              "      const buffers = [];\n",
              "      let downloaded = 0;\n",
              "\n",
              "      const channel = await google.colab.kernel.comms.open(id);\n",
              "      // Send a message to notify the kernel that we're ready.\n",
              "      channel.send({})\n",
              "\n",
              "      for await (const message of channel.messages) {\n",
              "        // Send a message to notify the kernel that we're ready.\n",
              "        channel.send({})\n",
              "        if (message.buffers) {\n",
              "          for (const buffer of message.buffers) {\n",
              "            buffers.push(buffer);\n",
              "            downloaded += buffer.byteLength;\n",
              "            progress.value = downloaded;\n",
              "          }\n",
              "        }\n",
              "      }\n",
              "      const blob = new Blob(buffers, {type: 'application/binary'});\n",
              "      const a = document.createElement('a');\n",
              "      a.href = window.URL.createObjectURL(blob);\n",
              "      a.download = filename;\n",
              "      div.appendChild(a);\n",
              "      a.click();\n",
              "      div.remove();\n",
              "    }\n",
              "  "
            ]
          },
          "metadata": {}
        },
        {
          "output_type": "display_data",
          "data": {
            "text/plain": [
              "<IPython.core.display.Javascript object>"
            ],
            "application/javascript": [
              "download(\"download_c2c16a50-4f8a-4a80-9f28-423e53d7b7fb\", \"movimentos_anpp.txt\", 12247703)"
            ]
          },
          "metadata": {}
        }
      ]
    },
    {
      "cell_type": "code",
      "source": [
        "df.info()"
      ],
      "metadata": {
        "colab": {
          "base_uri": "https://localhost:8080/"
        },
        "id": "x6xtHndkPLH4",
        "outputId": "a015f7d1-a82d-4467-9758-483d145eef92"
      },
      "execution_count": null,
      "outputs": [
        {
          "output_type": "stream",
          "name": "stdout",
          "text": [
            "<class 'pandas.core.frame.DataFrame'>\n",
            "RangeIndex: 10000 entries, 0 to 9999\n",
            "Data columns (total 12 columns):\n",
            " #   Column              Non-Null Count  Dtype                            \n",
            "---  ------              --------------  -----                            \n",
            " 0   numero_processo     10000 non-null  object                           \n",
            " 1   classe              10000 non-null  object                           \n",
            " 2   data_ajuizamento    10000 non-null  datetime64[ns, America/Sao_Paulo]\n",
            " 3   ultima_atualizacao  10000 non-null  datetime64[ns, America/Sao_Paulo]\n",
            " 4   formato             10000 non-null  object                           \n",
            " 5   codigo              10000 non-null  int64                            \n",
            " 6   orgao_julgador      10000 non-null  object                           \n",
            " 7   municipio           10000 non-null  object                           \n",
            " 8   grau                10000 non-null  object                           \n",
            " 9   assuntos            10000 non-null  object                           \n",
            " 10  movimentos          10000 non-null  object                           \n",
            " 11  sort                10000 non-null  int64                            \n",
            "dtypes: datetime64[ns, America/Sao_Paulo](2), int64(2), object(8)\n",
            "memory usage: 937.6+ KB\n"
          ]
        }
      ]
    },
    {
      "cell_type": "code",
      "source": [
        "df[\"assuntos\"].value_counts()"
      ],
      "metadata": {
        "colab": {
          "base_uri": "https://localhost:8080/",
          "height": 617
        },
        "id": "AGVTQToIPvnd",
        "outputId": "25825397-d934-47be-9ccf-82bf900ec83c"
      },
      "execution_count": null,
      "outputs": [
        {
          "output_type": "execute_result",
          "data": {
            "text/plain": [
              "assuntos\n",
              "[Acordo de Não Persecução Penal]                                                              9951\n",
              "[Pena de Multa]                                                                                 14\n",
              "[Falsificação de documento público]                                                              9\n",
              "[Falsificação de papéis públicos ]                                                               8\n",
              "[Execução Penal e de Medidas Alternativas]                                                       3\n",
              "[Crimes de Trânsito]                                                                             2\n",
              "[Pena Restritiva de Direitos]                                                                    2\n",
              "[Atos Processuais]                                                                               2\n",
              "[Prestação Pecuniária, Prestação de Serviços à Comunidade, Acordo de Não Persecução Penal]       2\n",
              "[Acordo de Não Persecução Penal, Crime / Contravenção contra Criança / Adolescente]              1\n",
              "[Acordo de Não Persecução Penal, Crime Tentado]                                                  1\n",
              "[Acordo de Não Persecução Penal, Prestação de Serviços à Comunidade]                             1\n",
              "[Ameaça ]                                                                                        1\n",
              "[Pena Privativa de Liberdade]                                                                    1\n",
              "[Prestação de Serviços à Comunidade, Acordo de Não Persecução Penal]                             1\n",
              "[Intimação]                                                                                      1\n",
              "Name: count, dtype: int64"
            ],
            "text/html": [
              "<div>\n",
              "<style scoped>\n",
              "    .dataframe tbody tr th:only-of-type {\n",
              "        vertical-align: middle;\n",
              "    }\n",
              "\n",
              "    .dataframe tbody tr th {\n",
              "        vertical-align: top;\n",
              "    }\n",
              "\n",
              "    .dataframe thead th {\n",
              "        text-align: right;\n",
              "    }\n",
              "</style>\n",
              "<table border=\"1\" class=\"dataframe\">\n",
              "  <thead>\n",
              "    <tr style=\"text-align: right;\">\n",
              "      <th></th>\n",
              "      <th>count</th>\n",
              "    </tr>\n",
              "    <tr>\n",
              "      <th>assuntos</th>\n",
              "      <th></th>\n",
              "    </tr>\n",
              "  </thead>\n",
              "  <tbody>\n",
              "    <tr>\n",
              "      <th>[Acordo de Não Persecução Penal]</th>\n",
              "      <td>9951</td>\n",
              "    </tr>\n",
              "    <tr>\n",
              "      <th>[Pena de Multa]</th>\n",
              "      <td>14</td>\n",
              "    </tr>\n",
              "    <tr>\n",
              "      <th>[Falsificação de documento público]</th>\n",
              "      <td>9</td>\n",
              "    </tr>\n",
              "    <tr>\n",
              "      <th>[Falsificação de papéis públicos ]</th>\n",
              "      <td>8</td>\n",
              "    </tr>\n",
              "    <tr>\n",
              "      <th>[Execução Penal e de Medidas Alternativas]</th>\n",
              "      <td>3</td>\n",
              "    </tr>\n",
              "    <tr>\n",
              "      <th>[Crimes de Trânsito]</th>\n",
              "      <td>2</td>\n",
              "    </tr>\n",
              "    <tr>\n",
              "      <th>[Pena Restritiva de Direitos]</th>\n",
              "      <td>2</td>\n",
              "    </tr>\n",
              "    <tr>\n",
              "      <th>[Atos Processuais]</th>\n",
              "      <td>2</td>\n",
              "    </tr>\n",
              "    <tr>\n",
              "      <th>[Prestação Pecuniária, Prestação de Serviços à Comunidade, Acordo de Não Persecução Penal]</th>\n",
              "      <td>2</td>\n",
              "    </tr>\n",
              "    <tr>\n",
              "      <th>[Acordo de Não Persecução Penal, Crime / Contravenção contra Criança / Adolescente]</th>\n",
              "      <td>1</td>\n",
              "    </tr>\n",
              "    <tr>\n",
              "      <th>[Acordo de Não Persecução Penal, Crime Tentado]</th>\n",
              "      <td>1</td>\n",
              "    </tr>\n",
              "    <tr>\n",
              "      <th>[Acordo de Não Persecução Penal, Prestação de Serviços à Comunidade]</th>\n",
              "      <td>1</td>\n",
              "    </tr>\n",
              "    <tr>\n",
              "      <th>[Ameaça ]</th>\n",
              "      <td>1</td>\n",
              "    </tr>\n",
              "    <tr>\n",
              "      <th>[Pena Privativa de Liberdade]</th>\n",
              "      <td>1</td>\n",
              "    </tr>\n",
              "    <tr>\n",
              "      <th>[Prestação de Serviços à Comunidade, Acordo de Não Persecução Penal]</th>\n",
              "      <td>1</td>\n",
              "    </tr>\n",
              "    <tr>\n",
              "      <th>[Intimação]</th>\n",
              "      <td>1</td>\n",
              "    </tr>\n",
              "  </tbody>\n",
              "</table>\n",
              "</div><br><label><b>dtype:</b> int64</label>"
            ]
          },
          "metadata": {},
          "execution_count": 40
        }
      ]
    },
    {
      "cell_type": "code",
      "source": [
        "mask = df[\"assuntos\"].apply(lambda x: \"Acordo de Não Persecução Penal\" in x)\n",
        "df_anpp = df[mask]\n",
        "\n",
        "# Usar aspas simples dentro da string\n",
        "print(f'Total de Registros: {len(df_anpp)}')\n",
        "print(f\"Data final: {df_anpp['data_ajuizamento'].max()}\")\n",
        "print(f\"Data inicial: {df_anpp['data_ajuizamento'].min()}\")\n"
      ],
      "metadata": {
        "colab": {
          "base_uri": "https://localhost:8080/"
        },
        "id": "7mE49xlhQXj9",
        "outputId": "35b1769c-33ed-4fd6-a3d0-36898027b082"
      },
      "execution_count": null,
      "outputs": [
        {
          "output_type": "stream",
          "name": "stdout",
          "text": [
            "Total de Registros: 9957\n",
            "Data final: 2024-07-31 17:50:38-03:00\n",
            "Data inicial: 2023-08-14 11:23:58-03:00\n"
          ]
        }
      ]
    },
    {
      "cell_type": "code",
      "source": [],
      "metadata": {
        "id": "AKi1yR29W6RX"
      },
      "execution_count": null,
      "outputs": []
    },
    {
      "cell_type": "code",
      "execution_count": null,
      "metadata": {
        "id": "S6h-nHOZgJ58",
        "colab": {
          "base_uri": "https://localhost:8080/",
          "height": 568
        },
        "outputId": "71550464-9093-4930-d07b-73adfb90b6f0"
      },
      "outputs": [
        {
          "output_type": "display_data",
          "data": {
            "text/plain": [
              "<Figure size 1200x600 with 1 Axes>"
            ],
            "image/png": "[encoded data removed]"
          },
          "metadata": {}
        }
      ],
      "source": [
        "# Horário em que os ANPPs foram ajuizados\n",
        "\n",
        "contagem = df_anpp['data_ajuizamento'].dt.hour.value_counts().sort_index()\n",
        "plt.figure(figsize=(12, 6))\n",
        "contagem.plot(kind='bar', color='skyblue')\n",
        "plt.title('Horário de ajuizamento dos ANPPs')\n",
        "plt.xlabel('Hora')\n",
        "plt.ylabel('Número de ajuizamentos')\n",
        "plt.grid(axis='y', alpha=0.8)\n",
        "plt.savefig('horario_anpp.jpg')\n",
        "plt.show()"
      ]
    },
    {
      "cell_type": "code",
      "source": [],
      "metadata": {
        "id": "Nhe0b7cfXbhl"
      },
      "execution_count": null,
      "outputs": []
    },
    {
      "cell_type": "code",
      "execution_count": null,
      "metadata": {
        "id": "cb7ksnO4gJ58",
        "colab": {
          "base_uri": "https://localhost:8080/",
          "height": 478
        },
        "outputId": "0fadd53c-e6c6-48ec-9452-4929faf2c86f"
      },
      "outputs": [
        {
          "output_type": "display_data",
          "data": {
            "text/plain": [
              "data_ajuizamento\n",
              "9      568\n",
              "10     973\n",
              "11    1166\n",
              "12    1300\n",
              "13    1390\n",
              "14     909\n",
              "15     581\n",
              "16     300\n",
              "17     254\n",
              "18     129\n",
              "19     115\n",
              "Name: count, dtype: int64"
            ],
            "text/html": [
              "<div>\n",
              "<style scoped>\n",
              "    .dataframe tbody tr th:only-of-type {\n",
              "        vertical-align: middle;\n",
              "    }\n",
              "\n",
              "    .dataframe tbody tr th {\n",
              "        vertical-align: top;\n",
              "    }\n",
              "\n",
              "    .dataframe thead th {\n",
              "        text-align: right;\n",
              "    }\n",
              "</style>\n",
              "<table border=\"1\" class=\"dataframe\">\n",
              "  <thead>\n",
              "    <tr style=\"text-align: right;\">\n",
              "      <th></th>\n",
              "      <th>count</th>\n",
              "    </tr>\n",
              "    <tr>\n",
              "      <th>data_ajuizamento</th>\n",
              "      <th></th>\n",
              "    </tr>\n",
              "  </thead>\n",
              "  <tbody>\n",
              "    <tr>\n",
              "      <th>9</th>\n",
              "      <td>568</td>\n",
              "    </tr>\n",
              "    <tr>\n",
              "      <th>10</th>\n",
              "      <td>973</td>\n",
              "    </tr>\n",
              "    <tr>\n",
              "      <th>11</th>\n",
              "      <td>1166</td>\n",
              "    </tr>\n",
              "    <tr>\n",
              "      <th>12</th>\n",
              "      <td>1300</td>\n",
              "    </tr>\n",
              "    <tr>\n",
              "      <th>13</th>\n",
              "      <td>1390</td>\n",
              "    </tr>\n",
              "    <tr>\n",
              "      <th>14</th>\n",
              "      <td>909</td>\n",
              "    </tr>\n",
              "    <tr>\n",
              "      <th>15</th>\n",
              "      <td>581</td>\n",
              "    </tr>\n",
              "    <tr>\n",
              "      <th>16</th>\n",
              "      <td>300</td>\n",
              "    </tr>\n",
              "    <tr>\n",
              "      <th>17</th>\n",
              "      <td>254</td>\n",
              "    </tr>\n",
              "    <tr>\n",
              "      <th>18</th>\n",
              "      <td>129</td>\n",
              "    </tr>\n",
              "    <tr>\n",
              "      <th>19</th>\n",
              "      <td>115</td>\n",
              "    </tr>\n",
              "  </tbody>\n",
              "</table>\n",
              "</div><br><label><b>dtype:</b> int64</label>"
            ]
          },
          "metadata": {}
        },
        {
          "output_type": "execute_result",
          "data": {
            "text/plain": [
              "7685"
            ]
          },
          "metadata": {},
          "execution_count": 43
        }
      ],
      "source": [
        "display(contagem[8:19])\n",
        "ajuizamentos_expediente = contagem[8:19].sum()\n",
        "ajuizamentos_expediente"
      ]
    },
    {
      "cell_type": "code",
      "source": [],
      "metadata": {
        "id": "qJmQSbW_XsF2"
      },
      "execution_count": null,
      "outputs": []
    },
    {
      "cell_type": "code",
      "execution_count": null,
      "metadata": {
        "id": "X6-7WbZdgJ58",
        "colab": {
          "base_uri": "https://localhost:8080/",
          "height": 608
        },
        "outputId": "5a6e52d1-71ce-47b1-fe9a-05c8ab317a88"
      },
      "outputs": [
        {
          "output_type": "display_data",
          "data": {
            "text/plain": [
              "data_ajuizamento\n",
              "0      8\n",
              "2     15\n",
              "3     38\n",
              "4     98\n",
              "5    130\n",
              "6    401\n",
              "7    689\n",
              "8    766\n",
              "Name: count, dtype: int64"
            ],
            "text/html": [
              "<div>\n",
              "<style scoped>\n",
              "    .dataframe tbody tr th:only-of-type {\n",
              "        vertical-align: middle;\n",
              "    }\n",
              "\n",
              "    .dataframe tbody tr th {\n",
              "        vertical-align: top;\n",
              "    }\n",
              "\n",
              "    .dataframe thead th {\n",
              "        text-align: right;\n",
              "    }\n",
              "</style>\n",
              "<table border=\"1\" class=\"dataframe\">\n",
              "  <thead>\n",
              "    <tr style=\"text-align: right;\">\n",
              "      <th></th>\n",
              "      <th>count</th>\n",
              "    </tr>\n",
              "    <tr>\n",
              "      <th>data_ajuizamento</th>\n",
              "      <th></th>\n",
              "    </tr>\n",
              "  </thead>\n",
              "  <tbody>\n",
              "    <tr>\n",
              "      <th>0</th>\n",
              "      <td>8</td>\n",
              "    </tr>\n",
              "    <tr>\n",
              "      <th>2</th>\n",
              "      <td>15</td>\n",
              "    </tr>\n",
              "    <tr>\n",
              "      <th>3</th>\n",
              "      <td>38</td>\n",
              "    </tr>\n",
              "    <tr>\n",
              "      <th>4</th>\n",
              "      <td>98</td>\n",
              "    </tr>\n",
              "    <tr>\n",
              "      <th>5</th>\n",
              "      <td>130</td>\n",
              "    </tr>\n",
              "    <tr>\n",
              "      <th>6</th>\n",
              "      <td>401</td>\n",
              "    </tr>\n",
              "    <tr>\n",
              "      <th>7</th>\n",
              "      <td>689</td>\n",
              "    </tr>\n",
              "    <tr>\n",
              "      <th>8</th>\n",
              "      <td>766</td>\n",
              "    </tr>\n",
              "  </tbody>\n",
              "</table>\n",
              "</div><br><label><b>dtype:</b> int64</label>"
            ]
          },
          "metadata": {}
        },
        {
          "output_type": "display_data",
          "data": {
            "text/plain": [
              "data_ajuizamento\n",
              "20    67\n",
              "21    32\n",
              "22    25\n",
              "23     3\n",
              "Name: count, dtype: int64"
            ],
            "text/html": [
              "<div>\n",
              "<style scoped>\n",
              "    .dataframe tbody tr th:only-of-type {\n",
              "        vertical-align: middle;\n",
              "    }\n",
              "\n",
              "    .dataframe tbody tr th {\n",
              "        vertical-align: top;\n",
              "    }\n",
              "\n",
              "    .dataframe thead th {\n",
              "        text-align: right;\n",
              "    }\n",
              "</style>\n",
              "<table border=\"1\" class=\"dataframe\">\n",
              "  <thead>\n",
              "    <tr style=\"text-align: right;\">\n",
              "      <th></th>\n",
              "      <th>count</th>\n",
              "    </tr>\n",
              "    <tr>\n",
              "      <th>data_ajuizamento</th>\n",
              "      <th></th>\n",
              "    </tr>\n",
              "  </thead>\n",
              "  <tbody>\n",
              "    <tr>\n",
              "      <th>20</th>\n",
              "      <td>67</td>\n",
              "    </tr>\n",
              "    <tr>\n",
              "      <th>21</th>\n",
              "      <td>32</td>\n",
              "    </tr>\n",
              "    <tr>\n",
              "      <th>22</th>\n",
              "      <td>25</td>\n",
              "    </tr>\n",
              "    <tr>\n",
              "      <th>23</th>\n",
              "      <td>3</td>\n",
              "    </tr>\n",
              "  </tbody>\n",
              "</table>\n",
              "</div><br><label><b>dtype:</b> int64</label>"
            ]
          },
          "metadata": {}
        },
        {
          "output_type": "execute_result",
          "data": {
            "text/plain": [
              "2272"
            ]
          },
          "metadata": {},
          "execution_count": 44
        }
      ],
      "source": [
        "display(contagem[0:8])\n",
        "display(contagem[19:])\n",
        "ajuizamentos_fora = contagem[0:8].sum() + contagem[19:].sum()\n",
        "ajuizamentos_fora"
      ]
    },
    {
      "cell_type": "code",
      "source": [],
      "metadata": {
        "id": "Q-BEHhaOXt_g"
      },
      "execution_count": null,
      "outputs": []
    },
    {
      "cell_type": "code",
      "execution_count": null,
      "metadata": {
        "id": "GdW1OnjggJ58",
        "colab": {
          "base_uri": "https://localhost:8080/",
          "height": 521
        },
        "outputId": "a88265d6-df2b-45bf-db9f-2f48c8d3afa4"
      },
      "outputs": [
        {
          "output_type": "display_data",
          "data": {
            "text/plain": [
              "<Figure size 800x600 with 1 Axes>"
            ],
            "image/png": "[encoded data removed]"
          },
          "metadata": {}
        }
      ],
      "source": [
        "labels = ['Das 9h às 19h', 'Fora do expediente']\n",
        "\n",
        "sizes = [ajuizamentos_expediente, ajuizamentos_fora]\n",
        "\n",
        "colors = ['lightblue', 'lightgreen']\n",
        "\n",
        "# Explosão da fatia\n",
        "explode = (0.1, 0)\n",
        "\n",
        "# Gerando o gráfico\n",
        "plt.figure(figsize=(8, 6))\n",
        "plt.pie(sizes, explode=explode, labels=labels, colors=colors, autopct='%1.2f%%', startangle=45)\n",
        "\n",
        "plt.title('Ajuizamento de ANPPs no Estado de SP')\n",
        "\n",
        "plt.axis('equal')\n",
        "plt.savefig('pizza_anpp.jpg')\n",
        "plt.show()"
      ]
    },
    {
      "cell_type": "code",
      "source": [],
      "metadata": {
        "id": "EEz37i8uX37b"
      },
      "execution_count": null,
      "outputs": []
    },
    {
      "cell_type": "code",
      "execution_count": null,
      "metadata": {
        "id": "V9KQScztgJ59"
      },
      "outputs": [],
      "source": [
        "df_anpp.set_index('data_ajuizamento', inplace=True)"
      ]
    },
    {
      "cell_type": "code",
      "source": [],
      "metadata": {
        "id": "d1oPyW9AX5X1"
      },
      "execution_count": null,
      "outputs": []
    },
    {
      "cell_type": "code",
      "execution_count": null,
      "metadata": {
        "id": "U3kn9nxLgJ59"
      },
      "outputs": [],
      "source": [
        "df_resampled = df_anpp.resample('M').size()\n",
        "df_resampled = df_resampled[1:] # Excluímos a primeira série de dados, que pode não estar completa (em razão do limite da resposta)\n",
        "x = []\n",
        "y = []\n",
        "for index, value in df_resampled.items():\n",
        "    x.append(f'Mês de {str(index)[:7]}')\n",
        "    y.append(value)"
      ]
    },
    {
      "cell_type": "code",
      "source": [],
      "metadata": {
        "id": "HBDDlfJDX-JS"
      },
      "execution_count": null,
      "outputs": []
    },
    {
      "cell_type": "code",
      "source": [
        "# Ajuizamentos mensais\n",
        "df_resampled"
      ],
      "metadata": {
        "id": "8XtkBthRhJhR",
        "colab": {
          "base_uri": "https://localhost:8080/",
          "height": 460
        },
        "outputId": "706dba88-70e3-4ac4-f8a6-3fb4ff32610f"
      },
      "execution_count": null,
      "outputs": [
        {
          "output_type": "execute_result",
          "data": {
            "text/plain": [
              "data_ajuizamento\n",
              "2023-09-30 00:00:00-03:00     997\n",
              "2023-10-31 00:00:00-03:00    1135\n",
              "2023-11-30 00:00:00-03:00     833\n",
              "2023-12-31 00:00:00-03:00     653\n",
              "2024-01-31 00:00:00-03:00     589\n",
              "2024-02-29 00:00:00-03:00     705\n",
              "2024-03-31 00:00:00-03:00     858\n",
              "2024-04-30 00:00:00-03:00     926\n",
              "2024-05-31 00:00:00-03:00     834\n",
              "2024-06-30 00:00:00-03:00     881\n",
              "2024-07-31 00:00:00-03:00     906\n",
              "Freq: M, dtype: int64"
            ],
            "text/html": [
              "<div>\n",
              "<style scoped>\n",
              "    .dataframe tbody tr th:only-of-type {\n",
              "        vertical-align: middle;\n",
              "    }\n",
              "\n",
              "    .dataframe tbody tr th {\n",
              "        vertical-align: top;\n",
              "    }\n",
              "\n",
              "    .dataframe thead th {\n",
              "        text-align: right;\n",
              "    }\n",
              "</style>\n",
              "<table border=\"1\" class=\"dataframe\">\n",
              "  <thead>\n",
              "    <tr style=\"text-align: right;\">\n",
              "      <th></th>\n",
              "      <th>0</th>\n",
              "    </tr>\n",
              "    <tr>\n",
              "      <th>data_ajuizamento</th>\n",
              "      <th></th>\n",
              "    </tr>\n",
              "  </thead>\n",
              "  <tbody>\n",
              "    <tr>\n",
              "      <th>2023-09-30 00:00:00-03:00</th>\n",
              "      <td>997</td>\n",
              "    </tr>\n",
              "    <tr>\n",
              "      <th>2023-10-31 00:00:00-03:00</th>\n",
              "      <td>1135</td>\n",
              "    </tr>\n",
              "    <tr>\n",
              "      <th>2023-11-30 00:00:00-03:00</th>\n",
              "      <td>833</td>\n",
              "    </tr>\n",
              "    <tr>\n",
              "      <th>2023-12-31 00:00:00-03:00</th>\n",
              "      <td>653</td>\n",
              "    </tr>\n",
              "    <tr>\n",
              "      <th>2024-01-31 00:00:00-03:00</th>\n",
              "      <td>589</td>\n",
              "    </tr>\n",
              "    <tr>\n",
              "      <th>2024-02-29 00:00:00-03:00</th>\n",
              "      <td>705</td>\n",
              "    </tr>\n",
              "    <tr>\n",
              "      <th>2024-03-31 00:00:00-03:00</th>\n",
              "      <td>858</td>\n",
              "    </tr>\n",
              "    <tr>\n",
              "      <th>2024-04-30 00:00:00-03:00</th>\n",
              "      <td>926</td>\n",
              "    </tr>\n",
              "    <tr>\n",
              "      <th>2024-05-31 00:00:00-03:00</th>\n",
              "      <td>834</td>\n",
              "    </tr>\n",
              "    <tr>\n",
              "      <th>2024-06-30 00:00:00-03:00</th>\n",
              "      <td>881</td>\n",
              "    </tr>\n",
              "    <tr>\n",
              "      <th>2024-07-31 00:00:00-03:00</th>\n",
              "      <td>906</td>\n",
              "    </tr>\n",
              "  </tbody>\n",
              "</table>\n",
              "</div><br><label><b>dtype:</b> int64</label>"
            ]
          },
          "metadata": {},
          "execution_count": 48
        }
      ]
    },
    {
      "cell_type": "code",
      "source": [],
      "metadata": {
        "id": "UiYUkRnaYDL6"
      },
      "execution_count": null,
      "outputs": []
    },
    {
      "cell_type": "code",
      "execution_count": null,
      "metadata": {
        "id": "AxLq1drHgJ59",
        "colab": {
          "base_uri": "https://localhost:8080/",
          "height": 607
        },
        "outputId": "9028ea6b-4369-4838-b4eb-5cdafcdfa2f8"
      },
      "outputs": [
        {
          "output_type": "display_data",
          "data": {
            "text/plain": [
              "<Figure size 1200x600 with 1 Axes>"
            ],
            "image/png": "[encoded data removed]"
          },
          "metadata": {}
        }
      ],
      "source": [
        "plt.figure(figsize=(12, 6))\n",
        "plt.bar(x, y, color='orange')\n",
        "\n",
        "plt.xlabel('Meses')\n",
        "plt.ylabel('Ajuizamentos')\n",
        "plt.title('Processo Penal não Instaurado em SP')\n",
        "plt.xticks(rotation=45,ha='right')\n",
        "\n",
        "for i in range(len(x)):\n",
        "    plt.text(x=x[i], y=y[i]+10, s=str(y[i]), ha='center')\n",
        "\n",
        "plt.tight_layout()\n",
        "plt.savefig('n_ajuizamentos_anpp.jpg')\n",
        "plt.show()"
      ]
    },
    {
      "cell_type": "code",
      "source": [],
      "metadata": {
        "id": "8Pd_z0DYYKbx"
      },
      "execution_count": null,
      "outputs": []
    },
    {
      "cell_type": "code",
      "execution_count": null,
      "metadata": {
        "id": "9B1tohy0gJ59",
        "colab": {
          "base_uri": "https://localhost:8080/"
        },
        "outputId": "10ec7a47-b214-4954-97e2-839479e18ed0"
      },
      "outputs": [
        {
          "output_type": "stream",
          "name": "stdout",
          "text": [
            "Não informado | 05 EXECUCOES CRIMINAIS DE CENTRAL |1059\n",
            "Não informado | 02 EXECUCOES CRIMINAIS DE CENTRAL |232\n",
            "Não informado | EXECUCOES CRIMINAIS DE GUARULHOS |217\n",
            "Não informado | EXECUCOES CRIMINAIS DE SAO JOSE DO RIO PRETO |215\n",
            "Não informado | 02 CRIMINAL DE BOTUCATU |172\n",
            "Não informado | JURI/EXECUCOES DE PIRACICABA |158\n",
            "Não informado | JURI/EXECUCOES DE SOROCABA |149\n",
            "Não informado | JURI/EXECUCOES DE SAO JOSE DOS CAMPOS |146\n",
            "Não informado | JURI/EXECUCOES DE OSASCO |140\n",
            "Não informado | JURI/EXECUCOES/INFANCIA E JUVENTUDE DE PRAIA GRANDE |138\n",
            "Não informado | 02 EXECUCOES CRIMINAIS DE BAURU |138\n",
            "Não informado | EXECUCOES CRIMINAIS DE MARILIA |137\n",
            "Não informado | JURI/EXEC./INF.JUV. DE RIO CLARO |135\n",
            "Não informado | JURI/EXEC./INF.JUV. DE FRANCO DA ROCHA |128\n",
            "Não informado | JURI/EXEC./INF.JUV. DE MAUA |115\n",
            "Não informado | 01 CRIMINAL DE ITAQUAQUECETUBA |111\n",
            "3549904 | JURI/EXECUCOES DE SAO JOSE DOS CAMPOS |111\n",
            "Não informado | 01 EXECUCOES CRIMINAIS DE TAUBATE |110\n",
            "Não informado | 01 CRIMINAL DE SUMARE |100\n",
            "Não informado | 01 CRIMINAL DE BARUERI |99\n",
            "Não informado | JURI/EXECUCOES DE SANTOS |95\n",
            "Não informado | 01 CRIMINAL DE ASSIS |93\n",
            "3554102 | 01 EXECUCOES CRIMINAIS DE TAUBATE |93\n",
            "Não informado | 03 CUMULATIVA DE SANTA FE DO SUL |92\n",
            "Não informado | EXECUCOES CRIMINAIS DE SAO VICENTE |90\n",
            "Não informado | 02 CRIMINAL DE SAO CAETANO DO SUL |88\n",
            "Não informado | 02 CRIMINAL DE INDAIATUBA |77\n",
            "Não informado | 01 CUMULATIVA DE ANDRADINA |75\n",
            "Não informado | 01 CRIMINAL DE OURINHOS |74\n",
            "Não informado | 01 CUMULATIVA DE ITAPEVA |73\n",
            "3548807 | 02 CRIMINAL DE SAO CAETANO DO SUL |73\n",
            "3548500 | JURI/EXECUCOES DE SANTOS |72\n",
            "Não informado | 01 CRIMINAL DE BIRIGUI |72\n",
            "Não informado | 01 EXECUCOES CRIMINAIS DE CAMPINAS |66\n",
            "Não informado | 02 CUMULATIVA DE ITANHAEM |66\n",
            "Não informado | 01 CRIMINAL DE JAU |65\n",
            "Não informado | 02 CUMULATIVA DE HORTOLANDIA |62\n",
            "3510500 | CRIMINAL DE CARAGUATATUBA |62\n",
            "Não informado | CRIMINAL DE CACAPAVA |61\n",
            "Não informado | JURI/EXECUCOES DE ARARAQUARA |58\n",
            "Não informado | 01 CRIMINAL DE LINS |58\n",
            "Não informado | 01 CUMULATIVA DE CAPIVARI |57\n",
            "Não informado | EXECUCOES CRIMINAIS DE TUPA |55\n",
            "3551009 | EXECUCOES CRIMINAIS DE SAO VICENTE |55\n",
            "Não informado | CRIMINAL DE CARAGUATATUBA |55\n",
            "Não informado | JURI/EXEC./INF.JUV. DE JUNDIAI |55\n",
            "Não informado | JURI/EXEC./INF.JUV. DE FRANCA |55\n",
            "Não informado | 01 CRIMINAL DE AVARE |54\n",
            "Não informado | JURI/EXECUCOES DE SAO BERNARDO DO CAMPO |53\n",
            "Não informado | 01 CUMULATIVA DE MIRASSOL |53\n",
            "Não informado | 01 CUMULATIVA DE IGUAPE |53\n",
            "Não informado | 02 CUMULATIVA DE ARUJA |51\n",
            "Não informado | 02 CRIMINAL DE TATUI |50\n",
            "Não informado | 01 CUMULATIVA DE CUBATAO |48\n",
            "Não informado | 01 CRIMINAL DE BARRETOS |48\n",
            "Não informado | 4VARA JUDICIAL DE SANTANA DE PARNAÍBA |48\n",
            "Não informado | JURI/EXEC./INF.JUV. DE BRAGANCA PAULISTA |47\n",
            "Não informado | CRIMINAL DE SAO SEBASTIAO |47\n",
            "Não informado | 01 CUMULATIVA DE REGISTRO |47\n",
            "Não informado | 02 JURI/EXECUCOES DE RIBEIRAO PRETO |46\n",
            "3516408 | JURI/EXEC./INF.JUV. DE FRANCO DA ROCHA |44\n",
            "Não informado | 02 CUMULATIVA DE UBATUBA |44\n",
            "3506003 | 02 EXECUCOES CRIMINAIS DE BAURU |43\n",
            "Não informado | 01 CUMULATIVA DE CAPAO BONITO |43\n",
            "Não informado | 02 CUMULATIVA DE GARCA |42\n",
            "Não informado | 01 CUMULATIVA DE JANDIRA |41\n",
            "Não informado | 04 CUMULATIVA DE ITAPECERICA DA SERRA |41\n",
            "3550704 | CRIMINAL DE SAO SEBASTIAO |41\n",
            "Não informado | 02 EXECUCOES CRIMINAIS DE PRESIDENTE PRUDENTE |40\n",
            "Não informado | 01 CUMULATIVA DE SAO MANUEL |39\n",
            "Não informado | 03 CRIMINAL DE SAO CARLOS |38\n",
            "Não informado | VARA UNICA DE JUQUIA |38\n",
            "Não informado | JURI/EXEC./INF.JUV. DE AMERICANA |36\n",
            "Não informado | VARA UNICA DE ANGATUBA |35\n",
            "3548708 | JURI/EXECUCOES DE SAO BERNARDO DO CAMPO |34\n",
            "Não informado | 02 CUMULATIVA DE RIBEIRAO PIRES |34\n",
            "Não informado | 01 CUMULATIVA DE BEBEDOURO |34\n",
            "Não informado | CRIMINAL DE VOTORANTIM |34\n",
            "Não informado | VARA UNICA DE CANANEIA |33\n",
            "Não informado | 01 CUMULATIVA DE PIEDADE |33\n",
            "3507506 | 02 CRIMINAL DE BOTUCATU |33\n",
            "Não informado | 02 CRIMINAL DE CARAPICUIBA |33\n",
            "Não informado | CRIMINAL DE OLIMPIA |32\n",
            "Não informado | 01 CUMULATIVA DE PEDERNEIRAS |31\n",
            "Não informado | 01 CUMULATIVA DE PARAGUACU PAULISTA |30\n",
            "Não informado | VARA UNICA DE SAO LUIS DO PARAITINGA |30\n",
            "Não informado | 01 CUMULATIVA DE JACUPIRANGA |30\n",
            "3547809 | JURI/EXECUCOES DE SANTO ANDRE |28\n",
            "Não informado | 01 CRIMINAL DE CATANDUVA |28\n",
            "Não informado | JURI/EXECUCOES DE SANTO ANDRE |28\n",
            "Não informado | 01 CUMULATIVA DE BROTAS |28\n",
            "Não informado | 02 CUMULATIVA DE FERRAZ DE VASCONCELOS |27\n",
            "Não informado | 01 CUMULATIVA DE MONTE MOR |27\n",
            "Não informado | VARA UNICA DE MONTE AZUL PAULISTA |27\n",
            "3552205 | JURI/EXECUCOES DE SOROCABA |26\n",
            "Não informado | 01 CRIMINAL DE SANTA BARBARA D OESTE |26\n",
            "3503901 | 02 CUMULATIVA DE ARUJA |25\n",
            "Não informado | 02 CUMULATIVA DE TAQUARITINGA |24\n",
            "Não informado | 01 CUMULATIVA DE VALINHOS |24\n",
            "Não informado | 01 CUMULATIVA DE MIRACATU |24\n"
          ]
        }
      ],
      "source": [
        "top_100 = df_anpp.groupby(['municipio', 'orgao_julgador'])['codigo'].count().sort_values(ascending=False).head(100)\n",
        "with open('top_100_ajuizamentos_anpp.txt', 'w') as file:\n",
        "    for index, value in top_100.items():\n",
        "        texto = f\"{index[0]} | {index[1]} |{value}\"\n",
        "        file.write(texto + '\\n')\n",
        "        print(texto)"
      ]
    }
  ]
}